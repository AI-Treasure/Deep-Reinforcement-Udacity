{
 "cells": [
  {
   "cell_type": "markdown",
   "metadata": {},
   "source": [
    "# Navigation\n",
    "\n",
    "---\n",
    "\n",
    "You are welcome to use this coding environment to train your agent for the project.  Follow the instructions below to get started!\n",
    "\n",
    "### 1. Start the Environment\n",
    "\n",
    "Run the next code cell to install a few packages.  This line will take a few minutes to run!"
   ]
  },
  {
   "cell_type": "code",
   "execution_count": 2,
   "metadata": {},
   "outputs": [
    {
     "name": "stdout",
     "output_type": "stream",
     "text": [
      "\u001b[31mtensorflow 1.7.1 has requirement numpy>=1.13.3, but you'll have numpy 1.12.1 which is incompatible.\u001b[0m\r\n",
      "\u001b[31mipython 6.5.0 has requirement prompt-toolkit<2.0.0,>=1.0.15, but you'll have prompt-toolkit 3.0.36 which is incompatible.\u001b[0m\r\n",
      "\u001b[31mjupyter-console 6.4.3 has requirement jupyter-client>=7.0.0, but you'll have jupyter-client 5.2.4 which is incompatible.\u001b[0m\r\n"
     ]
    }
   ],
   "source": [
    "!pip -q install ./python"
   ]
  },
  {
   "cell_type": "markdown",
   "metadata": {},
   "source": [
    "The environment is already saved in the Workspace and can be accessed at the file path provided below.  Please run the next code cell without making any changes."
   ]
  },
  {
   "cell_type": "code",
   "execution_count": 2,
   "metadata": {},
   "outputs": [
    {
     "name": "stdout",
     "output_type": "stream",
     "text": [
      "Archive:  Banana_Linux_NoVis.zip\n",
      "   creating: Banana_Linux_NoVis/\n",
      "  inflating: Banana_Linux_NoVis/Banana.x86  \n",
      "   creating: Banana_Linux_NoVis/Banana_Data/\n",
      "   creating: Banana_Linux_NoVis/Banana_Data/Managed/\n",
      "  inflating: Banana_Linux_NoVis/Banana_Data/Managed/UnityEngine.AudioModule.dll.mdb  \n",
      "  inflating: Banana_Linux_NoVis/Banana_Data/Managed/UnityEngine.InputModule.dll.mdb  \n",
      "  inflating: Banana_Linux_NoVis/Banana_Data/Managed/UnityEngine.TerrainPhysicsModule.dll  \n",
      "  inflating: Banana_Linux_NoVis/Banana_Data/Managed/Mono.Posix.dll  \n",
      "  inflating: Banana_Linux_NoVis/Banana_Data/Managed/UnityEngine.UnityWebRequestAudioModule.dll.mdb  \n",
      "  inflating: Banana_Linux_NoVis/Banana_Data/Managed/UnityEngine.SpriteMaskModule.dll  \n",
      "  inflating: Banana_Linux_NoVis/Banana_Data/Managed/UnityEngine.UnityConnectModule.dll.mdb  \n",
      "  inflating: Banana_Linux_NoVis/Banana_Data/Managed/UnityEngine.CrashReportingModule.dll  \n",
      "  inflating: Banana_Linux_NoVis/Banana_Data/Managed/UnityEngine.Physics2DModule.dll.mdb  \n",
      "  inflating: Banana_Linux_NoVis/Banana_Data/Managed/UnityEngine.UnityAnalyticsModule.dll  \n",
      "  inflating: Banana_Linux_NoVis/Banana_Data/Managed/UnityEngine.TextRenderingModule.dll.mdb  \n",
      "  inflating: Banana_Linux_NoVis/Banana_Data/Managed/UnityEngine.UnityWebRequestWWWModule.dll  \n",
      "  inflating: Banana_Linux_NoVis/Banana_Data/Managed/UnityEngine.ARModule.dll  \n",
      "  inflating: Banana_Linux_NoVis/Banana_Data/Managed/Google.Protobuf.dll  \n",
      "  inflating: Banana_Linux_NoVis/Banana_Data/Managed/UnityEngine.AccessibilityModule.dll  \n",
      "  inflating: Banana_Linux_NoVis/Banana_Data/Managed/UnityEngine.WebModule.dll.mdb  \n",
      "  inflating: Banana_Linux_NoVis/Banana_Data/Managed/System.Configuration.dll  \n",
      "  inflating: Banana_Linux_NoVis/Banana_Data/Managed/UnityEngine.SpriteShapeModule.dll  \n",
      "  inflating: Banana_Linux_NoVis/Banana_Data/Managed/UnityEngine.TextRenderingModule.dll  \n",
      "  inflating: Banana_Linux_NoVis/Banana_Data/Managed/UnityEngine.GameCenterModule.dll.mdb  \n",
      "  inflating: Banana_Linux_NoVis/Banana_Data/Managed/Assembly-CSharp.dll  \n",
      "  inflating: Banana_Linux_NoVis/Banana_Data/Managed/UnityEngine.UnityWebRequestTextureModule.dll  \n",
      "  inflating: Banana_Linux_NoVis/Banana_Data/Managed/UnityEngine.StandardEvents.dll  \n",
      "  inflating: Banana_Linux_NoVis/Banana_Data/Managed/UnityEngine.UIModule.dll.mdb  \n",
      "  inflating: Banana_Linux_NoVis/Banana_Data/Managed/UnityEngine.AssetBundleModule.dll  \n",
      "  inflating: Banana_Linux_NoVis/Banana_Data/Managed/UnityEngine.ImageConversionModule.dll.mdb  \n",
      "  inflating: Banana_Linux_NoVis/Banana_Data/Managed/UnityEngine.JSONSerializeModule.dll.mdb  \n",
      "  inflating: Banana_Linux_NoVis/Banana_Data/Managed/UnityEngine.PhysicsModule.dll.mdb  \n",
      "  inflating: Banana_Linux_NoVis/Banana_Data/Managed/UnityEngine.AnimationModule.dll  \n",
      "  inflating: Banana_Linux_NoVis/Banana_Data/Managed/UnityEngine.AudioModule.dll  \n",
      "  inflating: Banana_Linux_NoVis/Banana_Data/Managed/UnityEngine.CrashReportingModule.dll.mdb  \n",
      "  inflating: Banana_Linux_NoVis/Banana_Data/Managed/UnityEngine.SharedInternalsModule.dll.mdb  \n",
      "  inflating: Banana_Linux_NoVis/Banana_Data/Managed/UnityEngine.TilemapModule.dll.mdb  \n",
      "  inflating: Banana_Linux_NoVis/Banana_Data/Managed/UnityEngine.ClusterInputModule.dll  \n",
      "  inflating: Banana_Linux_NoVis/Banana_Data/Managed/UnityEngine.InputModule.dll  \n",
      "  inflating: Banana_Linux_NoVis/Banana_Data/Managed/UnityEngine.VRModule.dll.mdb  \n",
      "  inflating: Banana_Linux_NoVis/Banana_Data/Managed/UnityEngine.TerrainModule.dll.mdb  \n",
      "  inflating: Banana_Linux_NoVis/Banana_Data/Managed/UnityEngine.VideoModule.dll.mdb  \n",
      "  inflating: Banana_Linux_NoVis/Banana_Data/Managed/UnityEngine.DirectorModule.dll  \n",
      "  inflating: Banana_Linux_NoVis/Banana_Data/Managed/UnityEngine.SpriteMaskModule.dll.mdb  \n",
      "  inflating: Banana_Linux_NoVis/Banana_Data/Managed/mscorlib.dll  \n",
      "  inflating: Banana_Linux_NoVis/Banana_Data/Managed/UnityEngine.DirectorModule.dll.mdb  \n",
      "  inflating: Banana_Linux_NoVis/Banana_Data/Managed/UnityEngine.VehiclesModule.dll.mdb  \n",
      "  inflating: Banana_Linux_NoVis/Banana_Data/Managed/UnityEngine.GameCenterModule.dll  \n",
      "  inflating: Banana_Linux_NoVis/Banana_Data/Managed/UnityEngine.ParticleSystemModule.dll.mdb  \n",
      "  inflating: Banana_Linux_NoVis/Banana_Data/Managed/UnityEngine.ClothModule.dll.mdb  \n",
      "  inflating: Banana_Linux_NoVis/Banana_Data/Managed/UnityEngine.UnityWebRequestModule.dll.mdb  \n",
      "  inflating: Banana_Linux_NoVis/Banana_Data/Managed/UnityEngine.Physics2DModule.dll  \n",
      "  inflating: Banana_Linux_NoVis/Banana_Data/Managed/UnityEngine.UnityConnectModule.dll  \n",
      "  inflating: Banana_Linux_NoVis/Banana_Data/Managed/UnityEngine.dll  \n",
      "  inflating: Banana_Linux_NoVis/Banana_Data/Managed/UnityEngine.UnityWebRequestTextureModule.dll.mdb  \n",
      "  inflating: Banana_Linux_NoVis/Banana_Data/Managed/UnityEngine.UIElementsModule.dll  \n",
      "  inflating: Banana_Linux_NoVis/Banana_Data/Managed/Grpc.Core.dll  \n",
      "  inflating: Banana_Linux_NoVis/Banana_Data/Managed/UnityEngine.UIModule.dll  \n",
      "  inflating: Banana_Linux_NoVis/Banana_Data/Managed/UnityEngine.UI.dll  \n",
      "  inflating: Banana_Linux_NoVis/Banana_Data/Managed/UnityEngine.ParticlesLegacyModule.dll  \n",
      "  inflating: Banana_Linux_NoVis/Banana_Data/Managed/UnityEngine.StyleSheetsModule.dll  \n",
      "  inflating: Banana_Linux_NoVis/Banana_Data/Managed/System.Interactive.Async.dll  \n",
      "  inflating: Banana_Linux_NoVis/Banana_Data/Managed/UnityEngine.WebModule.dll  \n",
      "  inflating: Banana_Linux_NoVis/Banana_Data/Managed/UnityEngine.Timeline.dll  \n",
      "  inflating: Banana_Linux_NoVis/Banana_Data/Managed/UnityEngine.IMGUIModule.dll.mdb  \n",
      "  inflating: Banana_Linux_NoVis/Banana_Data/Managed/UnityEngine.GridModule.dll  \n",
      "  inflating: Banana_Linux_NoVis/Banana_Data/Managed/UnityEngine.TerrainModule.dll  \n",
      "  inflating: Banana_Linux_NoVis/Banana_Data/Managed/UnityEngine.GridModule.dll.mdb  \n",
      "  inflating: Banana_Linux_NoVis/Banana_Data/Managed/UnityEngine.AssetBundleModule.dll.mdb  \n",
      "  inflating: Banana_Linux_NoVis/Banana_Data/Managed/UnityEngine.VRModule.dll  \n",
      "  inflating: Banana_Linux_NoVis/Banana_Data/Managed/UnityEngine.JSONSerializeModule.dll  \n",
      "  inflating: Banana_Linux_NoVis/Banana_Data/Managed/UnityEngine.AIModule.dll.mdb  \n",
      "  inflating: Banana_Linux_NoVis/Banana_Data/Managed/UnityEngine.SpatialTracking.dll  \n",
      "  inflating: Banana_Linux_NoVis/Banana_Data/Managed/Mono.Security.dll  \n",
      "  inflating: Banana_Linux_NoVis/Banana_Data/Managed/UnityEngine.CoreModule.dll.mdb  \n",
      "  inflating: Banana_Linux_NoVis/Banana_Data/Managed/System.dll  \n",
      "  inflating: Banana_Linux_NoVis/Banana_Data/Managed/UnityEngine.SharedInternalsModule.dll  \n",
      "  inflating: Banana_Linux_NoVis/Banana_Data/Managed/UnityEngine.UIElementsModule.dll.mdb  \n",
      "  inflating: Banana_Linux_NoVis/Banana_Data/Managed/UnityEngine.ImageConversionModule.dll  \n",
      "  inflating: Banana_Linux_NoVis/Banana_Data/Managed/UnityEngine.SpriteShapeModule.dll.mdb  \n",
      "  inflating: Banana_Linux_NoVis/Banana_Data/Managed/UnityEngine.TilemapModule.dll  \n",
      "  inflating: Banana_Linux_NoVis/Banana_Data/Managed/UnityEngine.ParticleSystemModule.dll  \n",
      "  inflating: Banana_Linux_NoVis/Banana_Data/Managed/UnityEngine.AccessibilityModule.dll.mdb  \n",
      "  inflating: Banana_Linux_NoVis/Banana_Data/Managed/UnityEngine.VehiclesModule.dll  \n",
      "  inflating: Banana_Linux_NoVis/Banana_Data/Managed/UnityEngine.PhysicsModule.dll  \n",
      "  inflating: Banana_Linux_NoVis/Banana_Data/Managed/UnityEngine.CoreModule.dll  \n",
      "  inflating: Banana_Linux_NoVis/Banana_Data/Managed/UnityEngine.PerformanceReportingModule.dll  \n",
      "  inflating: Banana_Linux_NoVis/Banana_Data/Managed/System.Xml.dll  \n",
      "  inflating: Banana_Linux_NoVis/Banana_Data/Managed/UnityEngine.ClusterRendererModule.dll.mdb  \n",
      "  inflating: Banana_Linux_NoVis/Banana_Data/Managed/UnityEngine.WindModule.dll  \n",
      "  inflating: Banana_Linux_NoVis/Banana_Data/Managed/UnityEngine.PerformanceReportingModule.dll.mdb  \n",
      "  inflating: Banana_Linux_NoVis/Banana_Data/Managed/UnityEngine.ARModule.dll.mdb  \n",
      "  inflating: Banana_Linux_NoVis/Banana_Data/Managed/UnityEngine.UnityAnalyticsModule.dll.mdb  \n",
      "  inflating: Banana_Linux_NoVis/Banana_Data/Managed/UnityEngine.ScreenCaptureModule.dll  \n",
      "  inflating: Banana_Linux_NoVis/Banana_Data/Managed/UnityEngine.dll.mdb  \n",
      "  inflating: Banana_Linux_NoVis/Banana_Data/Managed/UnityEngine.ClusterRendererModule.dll  \n",
      "  inflating: Banana_Linux_NoVis/Banana_Data/Managed/UnityEngine.ClusterInputModule.dll.mdb  \n",
      "  inflating: Banana_Linux_NoVis/Banana_Data/Managed/UnityEngine.UnityWebRequestModule.dll  \n",
      "  inflating: Banana_Linux_NoVis/Banana_Data/Managed/UnityEngine.Networking.dll  \n",
      "  inflating: Banana_Linux_NoVis/Banana_Data/Managed/UnityEngine.StyleSheetsModule.dll.mdb  \n",
      "  inflating: Banana_Linux_NoVis/Banana_Data/Managed/UnityEngine.UnityWebRequestAudioModule.dll  \n",
      "  inflating: Banana_Linux_NoVis/Banana_Data/Managed/UnityEngine.UNETModule.dll.mdb  \n",
      "  inflating: Banana_Linux_NoVis/Banana_Data/Managed/UnityEngine.UNETModule.dll  \n",
      "  inflating: Banana_Linux_NoVis/Banana_Data/Managed/UnityEngine.ClothModule.dll  \n",
      "  inflating: Banana_Linux_NoVis/Banana_Data/Managed/UnityEngine.TerrainPhysicsModule.dll.mdb  \n",
      "  inflating: Banana_Linux_NoVis/Banana_Data/Managed/UnityEngine.AnimationModule.dll.mdb  \n",
      "  inflating: Banana_Linux_NoVis/Banana_Data/Managed/System.Security.dll  \n",
      "  inflating: Banana_Linux_NoVis/Banana_Data/Managed/UnityEngine.AIModule.dll  \n",
      "  inflating: Banana_Linux_NoVis/Banana_Data/Managed/UnityEngine.IMGUIModule.dll  \n",
      "  inflating: Banana_Linux_NoVis/Banana_Data/Managed/System.Core.dll  \n",
      "  inflating: Banana_Linux_NoVis/Banana_Data/Managed/UnityEngine.WindModule.dll.mdb  \n",
      "  inflating: Banana_Linux_NoVis/Banana_Data/Managed/UnityEngine.VideoModule.dll  \n",
      "  inflating: Banana_Linux_NoVis/Banana_Data/Managed/UnityEngine.ParticlesLegacyModule.dll.mdb  \n",
      "  inflating: Banana_Linux_NoVis/Banana_Data/Managed/UnityEngine.ScreenCaptureModule.dll.mdb  \n",
      "  inflating: Banana_Linux_NoVis/Banana_Data/Managed/UnityEngine.UnityWebRequestWWWModule.dll.mdb  \n",
      "  inflating: Banana_Linux_NoVis/Banana_Data/globalgamemanagers  \n",
      "   creating: Banana_Linux_NoVis/Banana_Data/GI/\n",
      "   creating: Banana_Linux_NoVis/Banana_Data/GI/level0/\n",
      "   creating: Banana_Linux_NoVis/Banana_Data/GI/level0/d8/\n",
      "  inflating: Banana_Linux_NoVis/Banana_Data/GI/level0/d8/d879d8f84dad702b137146d9028aad2c.vis  \n",
      "  inflating: Banana_Linux_NoVis/Banana_Data/GI/level0/d8/d879d8f84dad702b137146d9028aad2c.iws.sse  \n",
      "  inflating: Banana_Linux_NoVis/Banana_Data/GI/level0/d8/d879d8f84dad702b137146d9028aad2c.caw  \n",
      "  inflating: Banana_Linux_NoVis/Banana_Data/GI/level0/d8/d879d8f84dad702b137146d9028aad2c.ecm  \n",
      "  inflating: Banana_Linux_NoVis/Banana_Data/GI/level0/d8/d879d8f84dad702b137146d9028aad2c.rsc.sse  \n",
      "  inflating: Banana_Linux_NoVis/Banana_Data/GI/level0/d8/d879d8f84dad702b137146d9028aad2c.rgb  \n",
      "   creating: Banana_Linux_NoVis/Banana_Data/Plugins/\n",
      "   creating: Banana_Linux_NoVis/Banana_Data/Plugins/x86/\n",
      "  inflating: Banana_Linux_NoVis/Banana_Data/Plugins/x86/libgrpc_csharp_ext.x86.so  \n",
      "   creating: Banana_Linux_NoVis/Banana_Data/Plugins/x86_64/\n",
      "  inflating: Banana_Linux_NoVis/Banana_Data/Plugins/x86_64/libgrpc_csharp_ext.x64.so  \n",
      "  inflating: Banana_Linux_NoVis/Banana_Data/boot.config  \n",
      "   creating: Banana_Linux_NoVis/Banana_Data/Resources/\n",
      "  inflating: Banana_Linux_NoVis/Banana_Data/Resources/unity default resources  \n",
      "  inflating: Banana_Linux_NoVis/Banana_Data/Resources/unity_builtin_extra  \n",
      "  inflating: Banana_Linux_NoVis/Banana_Data/Resources/UnityPlayer.png  \n",
      "   creating: Banana_Linux_NoVis/Banana_Data/MonoBleedingEdge/\n",
      "   creating: Banana_Linux_NoVis/Banana_Data/MonoBleedingEdge/etc/\n",
      "   creating: Banana_Linux_NoVis/Banana_Data/MonoBleedingEdge/etc/mono/\n",
      "  inflating: Banana_Linux_NoVis/Banana_Data/MonoBleedingEdge/etc/mono/config  \n",
      "   creating: Banana_Linux_NoVis/Banana_Data/MonoBleedingEdge/etc/mono/2.0/\n",
      "  inflating: Banana_Linux_NoVis/Banana_Data/MonoBleedingEdge/etc/mono/2.0/web.config  \n",
      "  inflating: Banana_Linux_NoVis/Banana_Data/MonoBleedingEdge/etc/mono/2.0/machine.config  \n",
      "   creating: Banana_Linux_NoVis/Banana_Data/MonoBleedingEdge/etc/mono/2.0/Browsers/\n",
      "  inflating: Banana_Linux_NoVis/Banana_Data/MonoBleedingEdge/etc/mono/2.0/Browsers/Compat.browser  \n",
      "  inflating: Banana_Linux_NoVis/Banana_Data/MonoBleedingEdge/etc/mono/2.0/DefaultWsdlHelpGenerator.aspx  \n",
      "  inflating: Banana_Linux_NoVis/Banana_Data/MonoBleedingEdge/etc/mono/2.0/settings.map  \n",
      "   creating: Banana_Linux_NoVis/Banana_Data/MonoBleedingEdge/etc/mono/4.5/\n",
      "  inflating: Banana_Linux_NoVis/Banana_Data/MonoBleedingEdge/etc/mono/4.5/web.config  \n",
      "  inflating: Banana_Linux_NoVis/Banana_Data/MonoBleedingEdge/etc/mono/4.5/machine.config  \n",
      "   creating: Banana_Linux_NoVis/Banana_Data/MonoBleedingEdge/etc/mono/4.5/Browsers/\n",
      "  inflating: Banana_Linux_NoVis/Banana_Data/MonoBleedingEdge/etc/mono/4.5/Browsers/Compat.browser  \n",
      "  inflating: Banana_Linux_NoVis/Banana_Data/MonoBleedingEdge/etc/mono/4.5/DefaultWsdlHelpGenerator.aspx  \n",
      "  inflating: Banana_Linux_NoVis/Banana_Data/MonoBleedingEdge/etc/mono/4.5/settings.map  \n",
      "  inflating: Banana_Linux_NoVis/Banana_Data/MonoBleedingEdge/etc/mono/browscap.ini  \n",
      "   creating: Banana_Linux_NoVis/Banana_Data/MonoBleedingEdge/etc/mono/mconfig/\n",
      "  inflating: Banana_Linux_NoVis/Banana_Data/MonoBleedingEdge/etc/mono/mconfig/config.xml  \n",
      "   creating: Banana_Linux_NoVis/Banana_Data/MonoBleedingEdge/etc/mono/4.0/\n",
      "  inflating: Banana_Linux_NoVis/Banana_Data/MonoBleedingEdge/etc/mono/4.0/web.config  \n",
      "  inflating: Banana_Linux_NoVis/Banana_Data/MonoBleedingEdge/etc/mono/4.0/machine.config  \n",
      "   creating: Banana_Linux_NoVis/Banana_Data/MonoBleedingEdge/etc/mono/4.0/Browsers/\n",
      "  inflating: Banana_Linux_NoVis/Banana_Data/MonoBleedingEdge/etc/mono/4.0/Browsers/Compat.browser  \n",
      "  inflating: Banana_Linux_NoVis/Banana_Data/MonoBleedingEdge/etc/mono/4.0/DefaultWsdlHelpGenerator.aspx  \n",
      "  inflating: Banana_Linux_NoVis/Banana_Data/MonoBleedingEdge/etc/mono/4.0/settings.map  \n",
      "   creating: Banana_Linux_NoVis/Banana_Data/MonoBleedingEdge/x86/\n",
      "  inflating: Banana_Linux_NoVis/Banana_Data/MonoBleedingEdge/x86/libmonobdwgc-2.0.so  \n",
      "  inflating: Banana_Linux_NoVis/Banana_Data/MonoBleedingEdge/x86/libMonoPosixHelper.so  \n",
      "   creating: Banana_Linux_NoVis/Banana_Data/MonoBleedingEdge/x86_64/\n",
      "  inflating: Banana_Linux_NoVis/Banana_Data/MonoBleedingEdge/x86_64/libmonobdwgc-2.0.so  \n",
      "  inflating: Banana_Linux_NoVis/Banana_Data/MonoBleedingEdge/x86_64/libMonoPosixHelper.so  \n",
      "  inflating: Banana_Linux_NoVis/Banana_Data/sharedassets0.assets.resS  \n",
      "  inflating: Banana_Linux_NoVis/Banana_Data/sharedassets0.assets  \n",
      "  inflating: Banana_Linux_NoVis/Banana_Data/level0  \n",
      "  inflating: Banana_Linux_NoVis/Banana_Data/globalgamemanagers.assets  \n",
      "  inflating: Banana_Linux_NoVis/Banana.x86_64  \n"
     ]
    }
   ],
   "source": [
    "!unzip Banana_Linux_NoVis.zip"
   ]
  },
  {
   "cell_type": "code",
   "execution_count": 3,
   "metadata": {},
   "outputs": [
    {
     "name": "stdout",
     "output_type": "stream",
     "text": [
      "Banana_Linux_NoVis\tDeep_Q_Network_Solution.ipynb  Navigation.ipynb\r\n",
      "Banana_Linux_NoVis.zip\tdqn_agent.py\t\t       __pycache__\r\n",
      "checkpoint.pth\t\tmodel.py\t\t       python\r\n"
     ]
    }
   ],
   "source": [
    "!ls"
   ]
  },
  {
   "cell_type": "code",
   "execution_count": 3,
   "metadata": {},
   "outputs": [
    {
     "name": "stderr",
     "output_type": "stream",
     "text": [
      "INFO:unityagents:\n",
      "'Academy' started successfully!\n",
      "Unity Academy name: Academy\n",
      "        Number of Brains: 1\n",
      "        Number of External Brains : 1\n",
      "        Lesson number : 0\n",
      "        Reset Parameters :\n",
      "\t\t\n",
      "Unity brain name: BananaBrain\n",
      "        Number of Visual Observations (per agent): 0\n",
      "        Vector Observation space type: continuous\n",
      "        Vector Observation space size (per agent): 37\n",
      "        Number of stacked Vector Observation: 1\n",
      "        Vector Action space type: discrete\n",
      "        Vector Action space size (per agent): 4\n",
      "        Vector Action descriptions: , , , \n"
     ]
    }
   ],
   "source": [
    "from unityagents import UnityEnvironment\n",
    "import numpy as np\n",
    "\n",
    "# please do not modify the line below\n",
    "env = UnityEnvironment(file_name=\"./Banana_Linux_NoVis/Banana.x86_64\")"
   ]
  },
  {
   "cell_type": "markdown",
   "metadata": {},
   "source": [
    "Environments contain **_brains_** which are responsible for deciding the actions of their associated agents. Here we check for the first brain available, and set it as the default brain we will be controlling from Python."
   ]
  },
  {
   "cell_type": "code",
   "execution_count": 4,
   "metadata": {},
   "outputs": [],
   "source": [
    "# get the default brain\n",
    "brain_name = env.brain_names[0]\n",
    "brain = env.brains[brain_name]"
   ]
  },
  {
   "cell_type": "markdown",
   "metadata": {},
   "source": [
    "### 2. Examine the State and Action Spaces\n",
    "\n",
    "Run the code cell below to print some information about the environment."
   ]
  },
  {
   "cell_type": "code",
   "execution_count": 5,
   "metadata": {},
   "outputs": [
    {
     "name": "stdout",
     "output_type": "stream",
     "text": [
      "Number of agents: 1\n",
      "Number of actions: 4\n",
      "States look like: [ 1.          0.          0.          0.          0.84408134  0.          0.\n",
      "  1.          0.          0.0748472   0.          1.          0.          0.\n",
      "  0.25755     1.          0.          0.          0.          0.74177343\n",
      "  0.          1.          0.          0.          0.25854847  0.          0.\n",
      "  1.          0.          0.09355672  0.          1.          0.          0.\n",
      "  0.31969345  0.          0.        ]\n",
      "States have length: 37\n"
     ]
    }
   ],
   "source": [
    "# reset the environment\n",
    "env_info = env.reset(train_mode=True)[brain_name]\n",
    "\n",
    "# number of agents in the environment\n",
    "print('Number of agents:', len(env_info.agents))\n",
    "\n",
    "# number of actions\n",
    "action_size = brain.vector_action_space_size\n",
    "print('Number of actions:', action_size)\n",
    "\n",
    "# examine the state space \n",
    "state = env_info.vector_observations[0]\n",
    "print('States look like:', state)\n",
    "state_size = len(state)\n",
    "print('States have length:', state_size)"
   ]
  },
  {
   "cell_type": "markdown",
   "metadata": {},
   "source": [
    "### 3. Take Random Actions in the Environment\n",
    "\n",
    "In the next code cell, you will learn how to use the Python API to control the agent and receive feedback from the environment.\n",
    "\n",
    "Note that **in this coding environment, you will not be able to watch the agent while it is training**, and you should set `train_mode=True` to restart the environment."
   ]
  },
  {
   "cell_type": "code",
   "execution_count": 15,
   "metadata": {},
   "outputs": [
    {
     "ename": "UnityEnvironmentException",
     "evalue": "No Unity environment is loaded.",
     "output_type": "error",
     "traceback": [
      "\u001b[0;31m---------------------------------------------------------------------------\u001b[0m",
      "\u001b[0;31mUnityEnvironmentException\u001b[0m                 Traceback (most recent call last)",
      "\u001b[0;32m<ipython-input-15-35552cc4f04d>\u001b[0m in \u001b[0;36m<module>\u001b[0;34m()\u001b[0m\n\u001b[0;32m----> 1\u001b[0;31m \u001b[0menv_info\u001b[0m \u001b[0;34m=\u001b[0m \u001b[0menv\u001b[0m\u001b[0;34m.\u001b[0m\u001b[0mreset\u001b[0m\u001b[0;34m(\u001b[0m\u001b[0mtrain_mode\u001b[0m\u001b[0;34m=\u001b[0m\u001b[0;32mTrue\u001b[0m\u001b[0;34m)\u001b[0m\u001b[0;34m[\u001b[0m\u001b[0mbrain_name\u001b[0m\u001b[0;34m]\u001b[0m \u001b[0;31m# reset the environment\u001b[0m\u001b[0;34m\u001b[0m\u001b[0m\n\u001b[0m\u001b[1;32m      2\u001b[0m \u001b[0mstate\u001b[0m \u001b[0;34m=\u001b[0m \u001b[0menv_info\u001b[0m\u001b[0;34m.\u001b[0m\u001b[0mvector_observations\u001b[0m\u001b[0;34m[\u001b[0m\u001b[0;36m0\u001b[0m\u001b[0;34m]\u001b[0m            \u001b[0;31m# get the current state\u001b[0m\u001b[0;34m\u001b[0m\u001b[0m\n\u001b[1;32m      3\u001b[0m \u001b[0mscore\u001b[0m \u001b[0;34m=\u001b[0m \u001b[0;36m0\u001b[0m                                          \u001b[0;31m# initialize the score\u001b[0m\u001b[0;34m\u001b[0m\u001b[0m\n\u001b[1;32m      4\u001b[0m \u001b[0;32mwhile\u001b[0m \u001b[0;32mTrue\u001b[0m\u001b[0;34m:\u001b[0m\u001b[0;34m\u001b[0m\u001b[0m\n\u001b[1;32m      5\u001b[0m     \u001b[0maction\u001b[0m \u001b[0;34m=\u001b[0m \u001b[0mnp\u001b[0m\u001b[0;34m.\u001b[0m\u001b[0mrandom\u001b[0m\u001b[0;34m.\u001b[0m\u001b[0mrandint\u001b[0m\u001b[0;34m(\u001b[0m\u001b[0maction_size\u001b[0m\u001b[0;34m)\u001b[0m        \u001b[0;31m# select an action\u001b[0m\u001b[0;34m\u001b[0m\u001b[0m\n",
      "\u001b[0;32m/opt/conda/lib/python3.6/site-packages/unityagents/environment.py\u001b[0m in \u001b[0;36mreset\u001b[0;34m(self, train_mode, config, lesson)\u001b[0m\n\u001b[1;32m    270\u001b[0m             \u001b[0;32mreturn\u001b[0m \u001b[0ms\u001b[0m\u001b[0;34m[\u001b[0m\u001b[0;36m0\u001b[0m\u001b[0;34m]\u001b[0m\u001b[0;34m\u001b[0m\u001b[0m\n\u001b[1;32m    271\u001b[0m         \u001b[0;32melse\u001b[0m\u001b[0;34m:\u001b[0m\u001b[0;34m\u001b[0m\u001b[0m\n\u001b[0;32m--> 272\u001b[0;31m             \u001b[0;32mraise\u001b[0m \u001b[0mUnityEnvironmentException\u001b[0m\u001b[0;34m(\u001b[0m\u001b[0;34m\"No Unity environment is loaded.\"\u001b[0m\u001b[0;34m)\u001b[0m\u001b[0;34m\u001b[0m\u001b[0m\n\u001b[0m\u001b[1;32m    273\u001b[0m \u001b[0;34m\u001b[0m\u001b[0m\n\u001b[1;32m    274\u001b[0m     \u001b[0;32mdef\u001b[0m \u001b[0mstep\u001b[0m\u001b[0;34m(\u001b[0m\u001b[0mself\u001b[0m\u001b[0;34m,\u001b[0m  \u001b[0mvector_action\u001b[0m\u001b[0;34m=\u001b[0m\u001b[0;32mNone\u001b[0m\u001b[0;34m,\u001b[0m \u001b[0mmemory\u001b[0m\u001b[0;34m=\u001b[0m\u001b[0;32mNone\u001b[0m\u001b[0;34m,\u001b[0m \u001b[0mtext_action\u001b[0m\u001b[0;34m=\u001b[0m\u001b[0;32mNone\u001b[0m\u001b[0;34m)\u001b[0m \u001b[0;34m->\u001b[0m \u001b[0mAllBrainInfo\u001b[0m\u001b[0;34m:\u001b[0m\u001b[0;34m\u001b[0m\u001b[0m\n",
      "\u001b[0;31mUnityEnvironmentException\u001b[0m: No Unity environment is loaded."
     ]
    }
   ],
   "source": [
    "env_info = env.reset(train_mode=True)[brain_name] # reset the environment\n",
    "state = env_info.vector_observations[0]            # get the current state\n",
    "score = 0                                          # initialize the score\n",
    "while True:\n",
    "    action = np.random.randint(action_size)        # select an action\n",
    "    env_info = env.step(action)[brain_name]        # send the action to the environment\n",
    "    next_state = env_info.vector_observations[0]   # get the next state\n",
    "    reward = env_info.rewards[0]                   # get the reward\n",
    "    done = env_info.local_done[0]                  # see if episode has finished\n",
    "    score += reward                                # update the score\n",
    "    state = next_state                             # roll over the state to next time step\n",
    "    if done:                                       # exit loop if episode finished\n",
    "        break\n",
    "    \n",
    "print(\"Score: {}\".format(score))"
   ]
  },
  {
   "cell_type": "markdown",
   "metadata": {},
   "source": [
    "When finished, you can close the environment."
   ]
  },
  {
   "cell_type": "code",
   "execution_count": 6,
   "metadata": {},
   "outputs": [],
   "source": [
    "env.close()"
   ]
  },
  {
   "cell_type": "markdown",
   "metadata": {},
   "source": [
    "### 4. It's Your Turn!\n",
    "\n",
    "Now it's your turn to train your own agent to solve the environment!  A few **important notes**:\n",
    "- When training the environment, set `train_mode=True`, so that the line for resetting the environment looks like the following:\n",
    "```python\n",
    "env_info = env.reset(train_mode=True)[brain_name]\n",
    "```\n",
    "- To structure your work, you're welcome to work directly in this Jupyter notebook, or you might like to start over with a new file!  You can see the list of files in the workspace by clicking on **_Jupyter_** in the top left corner of the notebook.\n",
    "- In this coding environment, you will not be able to watch the agent while it is training.  However, **_after training the agent_**, you can download the saved model weights to watch the agent on your own machine! "
   ]
  },
  {
   "cell_type": "markdown",
   "metadata": {},
   "source": [
    "### 5. We will use the code from the DQN exercise"
   ]
  },
  {
   "cell_type": "markdown",
   "metadata": {},
   "source": [
    "Let's run run the code from the Deep_Q_Network solution. Note that it is our purpose to get an average score of +13 over 100 consecutive episodes."
   ]
  },
  {
   "cell_type": "code",
   "execution_count": 6,
   "metadata": {},
   "outputs": [],
   "source": [
    "from collections import deque\n",
    "import torch\n",
    "import matplotlib.pyplot as plt\n",
    "\n",
    "from dqn_agent import Agent\n",
    "agent = Agent(state_size=37, action_size=4, seed=0)"
   ]
  },
  {
   "cell_type": "code",
   "execution_count": 9,
   "metadata": {},
   "outputs": [
    {
     "name": "stdout",
     "output_type": "stream",
     "text": [
      "Episode 100\tAverage Score: 0.92\n",
      "Episode 200\tAverage Score: 3.71\n",
      "Episode 300\tAverage Score: 7.13\n",
      "Episode 400\tAverage Score: 10.64\n",
      "Episode 485\tAverage Score: 13.02\n",
      "Environment solved in 385 episodes!\tAverage Score: 13.02\n"
     ]
    },
    {
     "data": {
      "image/png": "[encoded data removed]",
      "text/plain": [
       "<matplotlib.figure.Figure at 0x7f3e2c317ac8>"
      ]
     },
     "metadata": {
      "needs_background": "light"
     },
     "output_type": "display_data"
    }
   ],
   "source": [
    "def dqn(n_episodes=2000, max_t=1000, eps_start=1.0, eps_end=0.01, eps_decay=0.995):\n",
    "    \"\"\"Deep Q-Learning.\n",
    "    \n",
    "    Params\n",
    "    ======\n",
    "        n_episodes (int): maximum number of training episodes\n",
    "        max_t (int): maximum number of timesteps per episode\n",
    "        eps_start (float): starting value of epsilon, for epsilon-greedy action selection\n",
    "        eps_end (float): minimum value of epsilon\n",
    "        eps_decay (float): multiplicative factor (per episode) for decreasing epsilon\n",
    "    \"\"\"\n",
    "    scores = []                        # list containing scores from each episode\n",
    "    scores_window = deque(maxlen=100)  # last 100 scores\n",
    "    eps = eps_start                    # initialize epsilon\n",
    "    \n",
    "    for i_episode in range(1, n_episodes+1):\n",
    "        env_info = env.reset(train_mode=True)[brain_name] # reset the environment\n",
    "        state = env_info.vector_observations[0]            # get the current state\n",
    "        score = 0                                          # initialize the score\n",
    "        \n",
    "        for t in range(max_t):\n",
    "            \n",
    "            action = agent.act(state, eps)                 #take an action in the episode\n",
    "            env_info = env.step(action)[brain_name]        # send the action to the environment\n",
    "            next_state = env_info.vector_observations[0]   # get the next state\n",
    "            reward = env_info.rewards[0]                   # get the reward\n",
    "            done = env_info.local_done[0]                  # see if episode has finished\n",
    "            \n",
    "            agent.step(state, action, reward, next_state, done)\n",
    "            state = next_state\n",
    "            score += reward\n",
    "            if done:\n",
    "                break \n",
    "    \n",
    "        scores_window.append(score)       # save most recent score\n",
    "        scores.append(score)              # save most recent score\n",
    "        eps = max(eps_end, eps_decay*eps) # decrease epsilon\n",
    "        print('\\rEpisode {}\\tAverage Score: {:.2f}'.format(i_episode, np.mean(scores_window)), end=\"\")\n",
    "        \n",
    "        if i_episode % 100 == 0:\n",
    "            print('\\rEpisode {}\\tAverage Score: {:.2f}'.format(i_episode, np.mean(scores_window)))\n",
    "        \n",
    "        if np.mean(scores_window)>=13:\n",
    "            print('\\nEnvironment solved in {:d} episodes!\\tAverage Score: {:.2f}'.format(i_episode-100, np.mean(scores_window)))\n",
    "            torch.save(agent.qnetwork_local.state_dict(), 'checkpoint.pth')\n",
    "            break\n",
    "    return scores\n",
    "\n",
    "scores = dqn(n_episodes=2000, max_t=1000, eps_start=1.0, eps_end=0.01, eps_decay=0.995)\n",
    "\n",
    "# plot the scores\n",
    "fig = plt.figure()\n",
    "ax = fig.add_subplot(111)\n",
    "plt.plot(np.arange(len(scores)), scores)\n",
    "plt.ylabel('Score')\n",
    "plt.xlabel('Episode #')\n",
    "plt.show()"
   ]
  },
  {
   "cell_type": "code",
   "execution_count": null,
   "metadata": {},
   "outputs": [],
   "source": []
  }
 ],
 "metadata": {
  "kernelspec": {
   "display_name": "Python 3",
   "language": "python",
   "name": "python3"
  },
  "language_info": {
   "codemirror_mode": {
    "name": "ipython",
    "version": 3
   },
   "file_extension": ".py",
   "mimetype": "text/x-python",
   "name": "python",
   "nbconvert_exporter": "python",
   "pygments_lexer": "ipython3",
   "version": "3.6.3"
  }
 },
 "nbformat": 4,
 "nbformat_minor": 2
}
