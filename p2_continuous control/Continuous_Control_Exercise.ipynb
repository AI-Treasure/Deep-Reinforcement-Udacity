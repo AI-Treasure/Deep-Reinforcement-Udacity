{
 "cells": [
  {
   "cell_type": "markdown",
   "metadata": {},
   "source": [
    "# Continuous Control\n",
    "\n",
    "---\n",
    "\n",
    "You are welcome to use this coding environment to train your agent for the project.  Follow the instructions below to get started!\n",
    "\n",
    "### 1. Start the Environment\n",
    "\n",
    "Run the next code cell to install a few packages.  This line will take a few minutes to run!"
   ]
  },
  {
   "cell_type": "code",
   "execution_count": 1,
   "metadata": {},
   "outputs": [
    {
     "name": "stdout",
     "output_type": "stream",
     "text": [
      "\u001b[31mtensorflow 1.7.1 has requirement numpy>=1.13.3, but you'll have numpy 1.12.1 which is incompatible.\u001b[0m\r\n",
      "\u001b[31mipython 6.5.0 has requirement prompt-toolkit<2.0.0,>=1.0.15, but you'll have prompt-toolkit 3.0.36 which is incompatible.\u001b[0m\r\n",
      "\u001b[31mjupyter-console 6.4.3 has requirement jupyter-client>=7.0.0, but you'll have jupyter-client 5.2.4 which is incompatible.\u001b[0m\r\n"
     ]
    }
   ],
   "source": [
    "!pip -q install ./python"
   ]
  },
  {
   "cell_type": "markdown",
   "metadata": {},
   "source": [
    "The environments corresponding to both versions of the environment are already saved in the Workspace and can be accessed at the file paths provided below.  \n",
    "\n",
    "Please select one of the two options below for loading the environment."
   ]
  },
  {
   "cell_type": "code",
   "execution_count": 2,
   "metadata": {},
   "outputs": [
    {
     "name": "stderr",
     "output_type": "stream",
     "text": [
      "INFO:unityagents:\n",
      "'Academy' started successfully!\n",
      "Unity Academy name: Academy\n",
      "        Number of Brains: 1\n",
      "        Number of External Brains : 1\n",
      "        Lesson number : 0\n",
      "        Reset Parameters :\n",
      "\t\tgoal_speed -> 1.0\n",
      "\t\tgoal_size -> 5.0\n",
      "Unity brain name: ReacherBrain\n",
      "        Number of Visual Observations (per agent): 0\n",
      "        Vector Observation space type: continuous\n",
      "        Vector Observation space size (per agent): 33\n",
      "        Number of stacked Vector Observation: 1\n",
      "        Vector Action space type: continuous\n",
      "        Vector Action space size (per agent): 4\n",
      "        Vector Action descriptions: , , , \n"
     ]
    }
   ],
   "source": [
    "from unityagents import UnityEnvironment\n",
    "import numpy as np\n",
    "\n",
    "# select this option to load version 1 (with a single agent) of the environment\n",
    "#env = UnityEnvironment(file_name='/data/Reacher_One_Linux_NoVis/Reacher_One_Linux_NoVis.x86_64')\n",
    "\n",
    "# select this option to load version 2 (with 20 agents) of the environment\n",
    "env = UnityEnvironment(file_name='/data/Reacher_Linux_NoVis/Reacher.x86_64')"
   ]
  },
  {
   "cell_type": "markdown",
   "metadata": {},
   "source": [
    "Environments contain **_brains_** which are responsible for deciding the actions of their associated agents. Here we check for the first brain available, and set it as the default brain we will be controlling from Python."
   ]
  },
  {
   "cell_type": "code",
   "execution_count": 3,
   "metadata": {},
   "outputs": [],
   "source": [
    "# get the default brain\n",
    "brain_name = env.brain_names[0]\n",
    "brain = env.brains[brain_name]"
   ]
  },
  {
   "cell_type": "markdown",
   "metadata": {},
   "source": [
    "### 2. Examine the State and Action Spaces\n",
    "\n",
    "Run the code cell below to print some information about the environment."
   ]
  },
  {
   "cell_type": "code",
   "execution_count": 4,
   "metadata": {},
   "outputs": [
    {
     "name": "stdout",
     "output_type": "stream",
     "text": [
      "Number of agents: 20\n",
      "Size of each action: 4\n",
      "There are 20 agents. Each observes a state with length: 33\n",
      "The state for the first agent looks like: [  0.00000000e+00  -4.00000000e+00   0.00000000e+00   1.00000000e+00\n",
      "  -0.00000000e+00  -0.00000000e+00  -4.37113883e-08   0.00000000e+00\n",
      "   0.00000000e+00   0.00000000e+00   0.00000000e+00   0.00000000e+00\n",
      "   0.00000000e+00   0.00000000e+00  -1.00000000e+01   0.00000000e+00\n",
      "   1.00000000e+00  -0.00000000e+00  -0.00000000e+00  -4.37113883e-08\n",
      "   0.00000000e+00   0.00000000e+00   0.00000000e+00   0.00000000e+00\n",
      "   0.00000000e+00   0.00000000e+00   5.75471878e+00  -1.00000000e+00\n",
      "   5.55726624e+00   0.00000000e+00   1.00000000e+00   0.00000000e+00\n",
      "  -1.68164849e-01]\n"
     ]
    }
   ],
   "source": [
    "# reset the environment\n",
    "env_info = env.reset(train_mode=True)[brain_name]\n",
    "\n",
    "# number of agents\n",
    "num_agents = len(env_info.agents)\n",
    "print('Number of agents:', num_agents)\n",
    "\n",
    "# size of each action\n",
    "action_size = brain.vector_action_space_size\n",
    "print('Size of each action:', action_size)\n",
    "\n",
    "# examine the state space \n",
    "states = env_info.vector_observations\n",
    "state_size = states.shape[1]\n",
    "print('There are {} agents. Each observes a state with length: {}'.format(states.shape[0], state_size))\n",
    "print('The state for the first agent looks like:', states[0])"
   ]
  },
  {
   "cell_type": "markdown",
   "metadata": {},
   "source": [
    "### 3. Take Random Actions in the Environment\n",
    "\n",
    "In the next code cell, you will learn how to use the Python API to control the agent and receive feedback from the environment.\n",
    "\n",
    "Note that **in this coding environment, you will not be able to watch the agents while they are training**, and you should set `train_mode=True` to restart the environment."
   ]
  },
  {
   "cell_type": "code",
   "execution_count": 5,
   "metadata": {},
   "outputs": [
    {
     "name": "stdout",
     "output_type": "stream",
     "text": [
      "Total score (averaged over agents) this episode: 0.11949999732896685\n"
     ]
    }
   ],
   "source": [
    "env_info = env.reset(train_mode=True)[brain_name]      # reset the environment    \n",
    "states = env_info.vector_observations                  # get the current state (for each agent)\n",
    "scores = np.zeros(num_agents)                          # initialize the score (for each agent)\n",
    "while True:\n",
    "    actions = np.random.randn(num_agents, action_size) # select an action (for each agent)\n",
    "    actions = np.clip(actions, -1, 1)                  # all actions between -1 and 1\n",
    "    env_info = env.step(actions)[brain_name]           # send all actions to tne environment\n",
    "    next_states = env_info.vector_observations         # get next state (for each agent)\n",
    "    rewards = env_info.rewards                         # get reward (for each agent)\n",
    "    dones = env_info.local_done                        # see if episode finished\n",
    "    scores += env_info.rewards                         # update the score (for each agent)\n",
    "    states = next_states                               # roll over states to next time step\n",
    "    if np.any(dones):                                  # exit loop if episode finished\n",
    "        break\n",
    "print('Total score (averaged over agents) this episode: {}'.format(np.mean(scores)))"
   ]
  },
  {
   "cell_type": "markdown",
   "metadata": {},
   "source": [
    "When finished, you can close the environment."
   ]
  },
  {
   "cell_type": "code",
   "execution_count": 6,
   "metadata": {},
   "outputs": [],
   "source": [
    "#env.close()"
   ]
  },
  {
   "cell_type": "markdown",
   "metadata": {},
   "source": [
    "### 4. It's Your Turn!\n",
    "\n",
    "Now it's your turn to train your own agent to solve the environment!  A few **important notes**:\n",
    "- When training the environment, set `train_mode=True`, so that the line for resetting the environment looks like the following:\n",
    "```python\n",
    "env_info = env.reset(train_mode=True)[brain_name]\n",
    "```\n",
    "- To structure your work, you're welcome to work directly in this Jupyter notebook, or you might like to start over with a new file!  You can see the list of files in the workspace by clicking on **_Jupyter_** in the top left corner of the notebook.\n",
    "- In this coding environment, you will not be able to watch the agents while they are training.  However, **_after training the agents_**, you can download the saved model weights to watch the agents on your own machine! "
   ]
  },
  {
   "cell_type": "code",
   "execution_count": 7,
   "metadata": {},
   "outputs": [],
   "source": [
    "import gym\n",
    "import random\n",
    "import torch\n",
    "import numpy as np\n",
    "from collections import deque\n",
    "import matplotlib.pyplot as plt\n",
    "%matplotlib inline\n",
    "\n",
    "#from ddpg_agent import Agent\n",
    "#import importlib\n",
    "\n",
    "\n",
    "import importlib\n",
    "import ddpg_agent\n",
    "importlib.reload(ddpg_agent)\n",
    "from ddpg_agent import Agent\n",
    "\n",
    "\n",
    "\n",
    "agent = Agent(state_size, action_size, num_agents, random_seed =42)"
   ]
  },
  {
   "cell_type": "code",
   "execution_count": 8,
   "metadata": {},
   "outputs": [
    {
     "name": "stdout",
     "output_type": "stream",
     "text": [
      "Episode: 1\tAverage Score: 0.74\tCurrent Score: 0.74\n",
      "Episode: 2\tAverage Score: 0.65\tCurrent Score: 0.56\n",
      "Episode: 3\tAverage Score: 0.62\tCurrent Score: 0.55\n",
      "Episode: 4\tAverage Score: 0.58\tCurrent Score: 0.49\n",
      "Episode: 5\tAverage Score: 0.50\tCurrent Score: 0.15\n",
      "Episode: 6\tAverage Score: 0.47\tCurrent Score: 0.33\n",
      "Episode: 7\tAverage Score: 0.50\tCurrent Score: 0.69\n",
      "Episode: 8\tAverage Score: 0.46\tCurrent Score: 0.21\n",
      "Episode: 9\tAverage Score: 0.48\tCurrent Score: 0.65\n",
      "Episode: 10\tAverage Score: 0.48\tCurrent Score: 0.43\n",
      "Episode: 11\tAverage Score: 0.45\tCurrent Score: 0.11\n",
      "Episode: 12\tAverage Score: 0.42\tCurrent Score: 0.14\n",
      "Episode: 13\tAverage Score: 0.43\tCurrent Score: 0.57\n",
      "Episode: 14\tAverage Score: 0.46\tCurrent Score: 0.83\n",
      "Episode: 15\tAverage Score: 0.47\tCurrent Score: 0.54\n",
      "Episode: 16\tAverage Score: 0.49\tCurrent Score: 0.93\n",
      "Episode: 17\tAverage Score: 0.53\tCurrent Score: 1.10\n",
      "Episode: 18\tAverage Score: 0.57\tCurrent Score: 1.34\n",
      "Episode: 19\tAverage Score: 0.66\tCurrent Score: 2.16\n",
      "Episode: 20\tAverage Score: 0.74\tCurrent Score: 2.38\n",
      "Episode: 21\tAverage Score: 0.84\tCurrent Score: 2.74\n",
      "Episode: 22\tAverage Score: 0.86\tCurrent Score: 1.37\n",
      "Episode: 23\tAverage Score: 0.96\tCurrent Score: 3.01\n",
      "Episode: 24\tAverage Score: 1.08\tCurrent Score: 3.99\n",
      "Episode: 25\tAverage Score: 1.14\tCurrent Score: 2.50\n",
      "Episode: 26\tAverage Score: 1.15\tCurrent Score: 1.27\n",
      "Episode: 27\tAverage Score: 1.16\tCurrent Score: 1.66\n",
      "Episode: 28\tAverage Score: 1.26\tCurrent Score: 3.86\n",
      "Episode: 29\tAverage Score: 1.35\tCurrent Score: 3.97\n",
      "Episode: 30\tAverage Score: 1.46\tCurrent Score: 4.56\n",
      "Episode: 31\tAverage Score: 1.57\tCurrent Score: 4.77\n",
      "Episode: 32\tAverage Score: 1.66\tCurrent Score: 4.48\n",
      "Episode: 33\tAverage Score: 1.75\tCurrent Score: 4.78\n",
      "Episode: 34\tAverage Score: 1.87\tCurrent Score: 5.62\n",
      "Episode: 35\tAverage Score: 1.96\tCurrent Score: 5.01\n",
      "Episode: 36\tAverage Score: 2.05\tCurrent Score: 5.38\n",
      "Episode: 37\tAverage Score: 2.17\tCurrent Score: 6.28\n",
      "Episode: 38\tAverage Score: 2.25\tCurrent Score: 5.20\n",
      "Episode: 39\tAverage Score: 2.33\tCurrent Score: 5.44\n",
      "Episode: 40\tAverage Score: 2.39\tCurrent Score: 4.77\n",
      "Episode: 41\tAverage Score: 2.48\tCurrent Score: 6.10\n",
      "Episode: 42\tAverage Score: 2.57\tCurrent Score: 6.23\n",
      "Episode: 43\tAverage Score: 2.65\tCurrent Score: 6.10\n",
      "Episode: 44\tAverage Score: 2.74\tCurrent Score: 6.44\n",
      "Episode: 45\tAverage Score: 2.83\tCurrent Score: 7.01\n",
      "Episode: 46\tAverage Score: 2.91\tCurrent Score: 6.43\n",
      "Episode: 47\tAverage Score: 2.99\tCurrent Score: 6.68\n",
      "Episode: 48\tAverage Score: 3.09\tCurrent Score: 7.57\n",
      "Episode: 49\tAverage Score: 3.20\tCurrent Score: 8.53\n",
      "Episode: 50\tAverage Score: 3.30\tCurrent Score: 8.30\n",
      "Episode: 51\tAverage Score: 3.39\tCurrent Score: 7.86\n",
      "Episode: 52\tAverage Score: 3.48\tCurrent Score: 8.38\n",
      "Episode: 53\tAverage Score: 3.56\tCurrent Score: 7.37\n",
      "Episode: 54\tAverage Score: 3.64\tCurrent Score: 7.82\n",
      "Episode: 55\tAverage Score: 3.72\tCurrent Score: 8.07\n",
      "Episode: 56\tAverage Score: 3.81\tCurrent Score: 8.93\n",
      "Episode: 57\tAverage Score: 3.88\tCurrent Score: 7.93\n",
      "Episode: 58\tAverage Score: 3.97\tCurrent Score: 9.20\n",
      "Episode: 59\tAverage Score: 4.05\tCurrent Score: 8.54\n",
      "Episode: 60\tAverage Score: 4.13\tCurrent Score: 9.04\n",
      "Episode: 61\tAverage Score: 4.24\tCurrent Score: 10.70\n",
      "Episode: 62\tAverage Score: 4.34\tCurrent Score: 10.51\n",
      "Episode: 63\tAverage Score: 4.43\tCurrent Score: 9.68\n",
      "Episode: 64\tAverage Score: 4.50\tCurrent Score: 8.96\n",
      "Episode: 65\tAverage Score: 4.59\tCurrent Score: 10.62\n",
      "Episode: 66\tAverage Score: 4.68\tCurrent Score: 10.49\n",
      "Episode: 67\tAverage Score: 4.77\tCurrent Score: 10.35\n",
      "Episode: 68\tAverage Score: 4.86\tCurrent Score: 10.90\n",
      "Episode: 69\tAverage Score: 4.95\tCurrent Score: 11.26\n",
      "Episode: 70\tAverage Score: 5.05\tCurrent Score: 11.93\n",
      "Episode: 71\tAverage Score: 5.14\tCurrent Score: 11.45\n",
      "Episode: 72\tAverage Score: 5.24\tCurrent Score: 12.02\n",
      "Episode: 73\tAverage Score: 5.31\tCurrent Score: 10.67\n",
      "Episode: 74\tAverage Score: 5.39\tCurrent Score: 11.06\n",
      "Episode: 75\tAverage Score: 5.47\tCurrent Score: 11.23\n",
      "Episode: 76\tAverage Score: 5.55\tCurrent Score: 11.97\n",
      "Episode: 77\tAverage Score: 5.64\tCurrent Score: 12.25\n",
      "Episode: 78\tAverage Score: 5.73\tCurrent Score: 12.77\n",
      "Episode: 79\tAverage Score: 5.80\tCurrent Score: 11.05\n",
      "Episode: 80\tAverage Score: 5.88\tCurrent Score: 12.53\n",
      "Episode: 81\tAverage Score: 5.97\tCurrent Score: 13.02\n",
      "Episode: 82\tAverage Score: 6.06\tCurrent Score: 13.20\n",
      "Episode: 83\tAverage Score: 6.15\tCurrent Score: 13.51\n",
      "Episode: 84\tAverage Score: 6.23\tCurrent Score: 12.87\n",
      "Episode: 85\tAverage Score: 6.33\tCurrent Score: 15.29\n",
      "Episode: 86\tAverage Score: 6.42\tCurrent Score: 13.43\n",
      "Episode: 87\tAverage Score: 6.50\tCurrent Score: 13.73\n",
      "Episode: 88\tAverage Score: 6.60\tCurrent Score: 15.37\n",
      "Episode: 89\tAverage Score: 6.72\tCurrent Score: 17.08\n",
      "Episode: 90\tAverage Score: 6.86\tCurrent Score: 19.25\n",
      "Episode: 91\tAverage Score: 7.01\tCurrent Score: 20.60\n",
      "Episode: 92\tAverage Score: 7.16\tCurrent Score: 20.93\n",
      "Episode: 93\tAverage Score: 7.31\tCurrent Score: 20.88\n",
      "Episode: 94\tAverage Score: 7.47\tCurrent Score: 22.80\n",
      "Episode: 95\tAverage Score: 7.60\tCurrent Score: 19.09\n",
      "Episode: 96\tAverage Score: 7.74\tCurrent Score: 21.15\n",
      "Episode: 97\tAverage Score: 7.91\tCurrent Score: 24.10\n",
      "Episode: 98\tAverage Score: 8.06\tCurrent Score: 22.96\n",
      "Episode: 99\tAverage Score: 8.19\tCurrent Score: 21.50\n",
      "Episode: 100\tAverage Score: 8.36\tCurrent Score: 24.63\n",
      "Episode: 101\tAverage Score: 8.60\tCurrent Score: 24.48\n",
      "Episode: 102\tAverage Score: 8.84\tCurrent Score: 25.15\n",
      "Episode: 103\tAverage Score: 9.08\tCurrent Score: 24.71\n",
      "Episode: 104\tAverage Score: 9.32\tCurrent Score: 24.14\n",
      "Episode: 105\tAverage Score: 9.57\tCurrent Score: 24.65\n",
      "Episode: 106\tAverage Score: 9.82\tCurrent Score: 25.64\n",
      "Episode: 107\tAverage Score: 10.07\tCurrent Score: 25.91\n",
      "Episode: 108\tAverage Score: 10.32\tCurrent Score: 25.41\n",
      "Episode: 109\tAverage Score: 10.58\tCurrent Score: 25.91\n",
      "Episode: 110\tAverage Score: 10.84\tCurrent Score: 27.29\n",
      "Episode: 111\tAverage Score: 11.14\tCurrent Score: 29.35\n",
      "Episode: 112\tAverage Score: 11.42\tCurrent Score: 28.40\n",
      "Episode: 113\tAverage Score: 11.70\tCurrent Score: 29.06\n",
      "Episode: 114\tAverage Score: 11.99\tCurrent Score: 29.20\n",
      "Episode: 115\tAverage Score: 12.26\tCurrent Score: 27.42\n",
      "Episode: 116\tAverage Score: 12.54\tCurrent Score: 29.38\n",
      "Episode: 117\tAverage Score: 12.83\tCurrent Score: 30.27\n",
      "Episode: 118\tAverage Score: 13.12\tCurrent Score: 30.00\n",
      "Episode: 119\tAverage Score: 13.39\tCurrent Score: 29.40\n",
      "Episode: 120\tAverage Score: 13.67\tCurrent Score: 30.06\n",
      "Episode: 121\tAverage Score: 13.95\tCurrent Score: 30.56\n",
      "Episode: 122\tAverage Score: 14.26\tCurrent Score: 32.68\n",
      "Episode: 123\tAverage Score: 14.56\tCurrent Score: 32.87\n",
      "Episode: 124\tAverage Score: 14.85\tCurrent Score: 33.65\n",
      "Episode: 125\tAverage Score: 15.17\tCurrent Score: 34.45\n",
      "Episode: 126\tAverage Score: 15.49\tCurrent Score: 33.03\n",
      "Episode: 127\tAverage Score: 15.82\tCurrent Score: 34.06\n",
      "Episode: 128\tAverage Score: 16.11\tCurrent Score: 33.31\n",
      "Episode: 129\tAverage Score: 16.42\tCurrent Score: 35.14\n",
      "Episode: 130\tAverage Score: 16.72\tCurrent Score: 33.95\n",
      "Episode: 131\tAverage Score: 17.02\tCurrent Score: 35.57\n",
      "Episode: 132\tAverage Score: 17.33\tCurrent Score: 35.01\n",
      "Episode: 133\tAverage Score: 17.63\tCurrent Score: 35.08\n",
      "Episode: 134\tAverage Score: 17.91\tCurrent Score: 33.58\n",
      "Episode: 135\tAverage Score: 18.21\tCurrent Score: 34.63\n",
      "Episode: 136\tAverage Score: 18.50\tCurrent Score: 34.92\n",
      "Episode: 137\tAverage Score: 18.79\tCurrent Score: 34.46\n",
      "Episode: 138\tAverage Score: 19.08\tCurrent Score: 34.52\n",
      "Episode: 139\tAverage Score: 19.37\tCurrent Score: 35.11\n",
      "Episode: 140\tAverage Score: 19.68\tCurrent Score: 35.77\n",
      "Episode: 141\tAverage Score: 19.98\tCurrent Score: 35.18\n",
      "Episode: 142\tAverage Score: 20.27\tCurrent Score: 35.59\n",
      "Episode: 143\tAverage Score: 20.57\tCurrent Score: 36.63\n",
      "Episode: 144\tAverage Score: 20.87\tCurrent Score: 35.66\n",
      "Episode: 145\tAverage Score: 21.15\tCurrent Score: 35.80\n",
      "Episode: 146\tAverage Score: 21.45\tCurrent Score: 36.41\n",
      "Episode: 147\tAverage Score: 21.76\tCurrent Score: 37.00\n",
      "Episode: 148\tAverage Score: 22.04\tCurrent Score: 36.18\n",
      "Episode: 149\tAverage Score: 22.33\tCurrent Score: 36.79\n",
      "Episode: 150\tAverage Score: 22.61\tCurrent Score: 36.99\n",
      "Episode: 151\tAverage Score: 22.91\tCurrent Score: 37.37\n",
      "Episode: 152\tAverage Score: 23.19\tCurrent Score: 36.58\n",
      "Episode: 153\tAverage Score: 23.50\tCurrent Score: 37.82\n",
      "Episode: 154\tAverage Score: 23.79\tCurrent Score: 37.40\n"
     ]
    },
    {
     "name": "stdout",
     "output_type": "stream",
     "text": [
      "Episode: 155\tAverage Score: 24.08\tCurrent Score: 37.17\n",
      "Episode: 156\tAverage Score: 24.37\tCurrent Score: 37.41\n",
      "Episode: 157\tAverage Score: 24.67\tCurrent Score: 37.97\n",
      "Episode: 158\tAverage Score: 24.94\tCurrent Score: 36.85\n",
      "Episode: 159\tAverage Score: 25.23\tCurrent Score: 37.68\n",
      "Episode: 160\tAverage Score: 25.52\tCurrent Score: 37.28\n",
      "Episode: 161\tAverage Score: 25.79\tCurrent Score: 37.99\n",
      "Episode: 162\tAverage Score: 26.06\tCurrent Score: 37.42\n",
      "Episode: 163\tAverage Score: 26.34\tCurrent Score: 37.33\n",
      "Episode: 164\tAverage Score: 26.62\tCurrent Score: 37.31\n",
      "Episode: 165\tAverage Score: 26.89\tCurrent Score: 37.33\n",
      "Episode: 166\tAverage Score: 27.15\tCurrent Score: 37.04\n",
      "Episode: 167\tAverage Score: 27.42\tCurrent Score: 37.31\n",
      "Episode: 168\tAverage Score: 27.68\tCurrent Score: 37.12\n",
      "Episode: 169\tAverage Score: 27.94\tCurrent Score: 36.95\n",
      "Episode: 170\tAverage Score: 28.19\tCurrent Score: 36.93\n",
      "Episode: 171\tAverage Score: 28.45\tCurrent Score: 37.46\n",
      "Episode: 172\tAverage Score: 28.70\tCurrent Score: 37.08\n",
      "Episode: 173\tAverage Score: 28.96\tCurrent Score: 36.33\n",
      "Episode: 174\tAverage Score: 29.21\tCurrent Score: 36.58\n",
      "Episode: 175\tAverage Score: 29.47\tCurrent Score: 36.94\n",
      "Episode: 176\tAverage Score: 29.72\tCurrent Score: 37.26\n",
      "Episode: 177\tAverage Score: 29.97\tCurrent Score: 37.01\n",
      "Episode: 178\tAverage Score: 30.22\tCurrent Score: 37.24\n",
      "\n",
      "Environment solved in 78 episodes!\tAverage Score: 30.22\n"
     ]
    }
   ],
   "source": [
    "def ddpg(n_episodes=2000, max_t = 1000, window_size=100, score_threshold=30.0, \n",
    "         print_interval=1, epochs=1000):\n",
    "\n",
    "    scores_deque = deque(maxlen=window_size) \n",
    "    scores = []        \n",
    "    best_average_score = -np.inf\n",
    "    #print(\"Training on {} started...\".format(agent.device))\n",
    "    \n",
    "    for i_episode in range(1, epochs+1):\n",
    "        \n",
    "        env_info = env.reset(train_mode=True)[brain_name]\n",
    "        states = env_info.vector_observations\n",
    "        \n",
    "        agent.reset()\n",
    "        episode_scores = np.zeros(num_agents) \n",
    "\n",
    "        for t in range(max_t):\n",
    "            actions = agent.act(states)\n",
    "            env_info = env.step(actions)[brain_name]\n",
    "            next_states = env_info.vector_observations\n",
    "            rewards = env_info.rewards\n",
    "            dones = env_info.local_done\n",
    "\n",
    "            agent.step(states=states, actions=actions, rewards=rewards, next_states=next_states, dones=dones)\n",
    "            episode_scores += np.array(rewards)\n",
    "            states = next_states\n",
    "            if np.any(dones):\n",
    "                break\n",
    "\n",
    "        episode_score = np.mean(episode_scores) # Summary of scores for this episode\n",
    "        scores_deque.append(episode_score)\n",
    "        scores.append(episode_score)\n",
    "        average_score = np.mean(scores_deque)\n",
    "\n",
    "        print('\\rEpisode: {}\\tAverage Score: {:.2f}\\tCurrent Score: {:.2f}'.format(i_episode, average_score, episode_score), end=\"\")\n",
    "        if i_episode % print_interval == 0:\n",
    "            print('\\rEpisode: {}\\tAverage Score: {:.2f}\\tCurrent Score: {:.2f}'.format(i_episode, average_score, episode_score))\n",
    "\n",
    "        if average_score >= score_threshold:\n",
    "            print('\\nEnvironment solved in {} episodes!\\tAverage Score: {:.2f}'.format(i_episode-window_size, average_score))\n",
    "            torch.save(agent.actor_local.state_dict(), 'checkpoint_actor.pth')\n",
    "            torch.save(agent.critic_local.state_dict(), 'checkpoint_critic.pth')\n",
    "            break\n",
    "\n",
    "    np.save('scores.npy', scores)\n",
    "    return scores\n",
    "\n",
    "scores = ddpg()"
   ]
  },
  {
   "cell_type": "code",
   "execution_count": 7,
   "metadata": {},
   "outputs": [
    {
     "name": "stdout",
     "output_type": "stream",
     "text": [
      "cpu\n"
     ]
    }
   ],
   "source": [
    "print(agent.device) "
   ]
  },
  {
   "cell_type": "code",
   "execution_count": 9,
   "metadata": {},
   "outputs": [
    {
     "data": {
      "image/png": "[encoded data removed]",
      "text/plain": [
       "<matplotlib.figure.Figure at 0x7fc158b06d30>"
      ]
     },
     "metadata": {
      "needs_background": "light"
     },
     "output_type": "display_data"
    }
   ],
   "source": [
    "fig = plt.figure()\n",
    "ax = fig.add_subplot(111)\n",
    "plt.plot(np.arange(1, len(scores)+1), scores)\n",
    "plt.ylabel('Score')\n",
    "plt.xlabel('Episode #')\n",
    "plt.savefig('plot scores.png')\n",
    "plt.show()"
   ]
  },
  {
   "cell_type": "code",
   "execution_count": null,
   "metadata": {},
   "outputs": [],
   "source": []
  }
 ],
 "metadata": {
  "kernelspec": {
   "display_name": "Python 3 (ipykernel)",
   "language": "python",
   "name": "python3"
  },
  "language_info": {
   "codemirror_mode": {
    "name": "ipython",
    "version": 3
   },
   "file_extension": ".py",
   "mimetype": "text/x-python",
   "name": "python",
   "nbconvert_exporter": "python",
   "pygments_lexer": "ipython3",
   "version": "3.9.13"
  }
 },
 "nbformat": 4,
 "nbformat_minor": 2
}
